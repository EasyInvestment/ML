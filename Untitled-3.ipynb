{
 "cells": [
  {
   "cell_type": "code",
   "execution_count": 13,
   "metadata": {},
   "outputs": [],
   "source": [
    "import FinanceDataReader as fdr\n",
    "from GetData import getTableName\n",
    "# 한국거래소 상장종목 전체\n",
    "name = \"가구\"\n",
    "df_krx = fdr.StockListing('KRX')\n",
    "table = getTableName(name)\n",
    "table = [i.replace(\"s\",\"\") for i in table]\n",
    "curr_category = name\n",
    "curr_name = table\n",
    "curr_sym = []\n",
    "for i in range(len(table)):\n",
    "    curr_sym.append(df_krx[df_krx[\"Symbol\"] == table[i]][\"Name\"].values[0])"
   ]
  },
  {
   "cell_type": "code",
   "execution_count": 14,
   "metadata": {},
   "outputs": [],
   "source": [
    "curr_sym = []\n",
    "for i in range(len(table)):\n",
    "    curr_sym.append(df_krx[df_krx[\"Symbol\"] == table[i]][\"Name\"].values[0])"
   ]
  },
  {
   "cell_type": "code",
   "execution_count": 15,
   "metadata": {},
   "outputs": [
    {
     "data": {
      "text/plain": [
       "['에이스침대', '에넥스', '지누스', '퍼시스', '코아스', '듀오백', '현대리바트', '시디즈', '오하임앤컴퍼니', '꿈비']"
      ]
     },
     "execution_count": 15,
     "metadata": {},
     "output_type": "execute_result"
    }
   ],
   "source": [
    "curr_sym"
   ]
  },
  {
   "cell_type": "code",
   "execution_count": null,
   "metadata": {},
   "outputs": [],
   "source": []
  }
 ],
 "metadata": {
  "kernelspec": {
   "display_name": "Python 3",
   "language": "python",
   "name": "python3"
  },
  "language_info": {
   "codemirror_mode": {
    "name": "ipython",
    "version": 3
   },
   "file_extension": ".py",
   "mimetype": "text/x-python",
   "name": "python",
   "nbconvert_exporter": "python",
   "pygments_lexer": "ipython3",
   "version": "3.10.0"
  },
  "orig_nbformat": 4
 },
 "nbformat": 4,
 "nbformat_minor": 2
}
